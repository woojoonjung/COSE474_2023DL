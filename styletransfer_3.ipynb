{
  "nbformat": 4,
  "nbformat_minor": 0,
  "metadata": {
    "colab": {
      "provenance": [],
      "machine_shape": "hm",
      "gpuType": "V100",
      "authorship_tag": "ABX9TyMYXnPPqCuNQq5ZqemrDWWq",
      "include_colab_link": true
    },
    "kernelspec": {
      "name": "python3",
      "display_name": "Python 3"
    },
    "language_info": {
      "name": "python"
    },
    "accelerator": "GPU"
  },
  "cells": [
    {
      "cell_type": "markdown",
      "metadata": {
        "id": "view-in-github",
        "colab_type": "text"
      },
      "source": [
        "<a href=\"https://colab.research.google.com/github/woojoonjung/COSE474_2023DL/blob/main/styletransfer_3.ipynb\" target=\"_parent\"><img src=\"https://colab.research.google.com/assets/colab-badge.svg\" alt=\"Open In Colab\"/></a>"
      ]
    },
    {
      "cell_type": "code",
      "execution_count": null,
      "metadata": {
        "id": "T2q8rOH2f59z"
      },
      "outputs": [],
      "source": [
        "import os\n",
        "import numpy as np\n",
        "\n",
        "import tensorflow as tf\n",
        "from tensorflow import keras\n",
        "from tensorflow.keras.applications import vgg19\n"
      ]
    },
    {
      "cell_type": "code",
      "source": [
        "from google.colab import drive\n",
        "root = '/content/drive'\n",
        "drive.mount(root)"
      ],
      "metadata": {
        "colab": {
          "base_uri": "https://localhost:8080/"
        },
        "id": "-8ezUtYygFBk",
        "outputId": "c63d5364-d565-4950-fcf7-e438d992f030"
      },
      "execution_count": null,
      "outputs": [
        {
          "output_type": "stream",
          "name": "stdout",
          "text": [
            "Mounted at /content/drive\n"
          ]
        }
      ]
    },
    {
      "cell_type": "code",
      "source": [
        "cd /content/drive/MyDrive/Colab\\ Notebooks/StyleTransfer"
      ],
      "metadata": {
        "colab": {
          "base_uri": "https://localhost:8080/"
        },
        "id": "TEnRBsTQgGmm",
        "outputId": "b2bdcc03-caf8-4552-bbe8-e0814f4b069b"
      },
      "execution_count": null,
      "outputs": [
        {
          "output_type": "stream",
          "name": "stdout",
          "text": [
            "/content/drive/MyDrive/Colab Notebooks/StyleTransfer\n"
          ]
        }
      ]
    },
    {
      "cell_type": "code",
      "source": [
        "os.getcwd()"
      ],
      "metadata": {
        "colab": {
          "base_uri": "https://localhost:8080/",
          "height": 35
        },
        "id": "JpH0hIupgIPU",
        "outputId": "644d6d63-bc51-46df-a3a7-ee1e068faf28"
      },
      "execution_count": null,
      "outputs": [
        {
          "output_type": "execute_result",
          "data": {
            "text/plain": [
              "'/content/drive/MyDrive/Colab Notebooks/StyleTransfer'"
            ],
            "application/vnd.google.colaboratory.intrinsic+json": {
              "type": "string"
            }
          },
          "metadata": {},
          "execution_count": 5
        }
      ]
    },
    {
      "cell_type": "code",
      "source": [
        "# Generated image size\n",
        "RESIZE_HEIGHT = 1340\n",
        "\n",
        "NUM_ITER = 2500\n",
        "\n",
        "# Weights of the different loss components\n",
        "CONTENT_WEIGHT = 8e-4\n",
        "STYLE_WEIGHT = 8e-1\n",
        "\n",
        "# The layer to use for the content loss.\n",
        "# Content feature를 가장 잘 반영하고 있을 high 레이어를 선택\n",
        "CONTENT_LAYER_NAME = \"block5_conv2\"\n",
        "\n",
        "# List of layers to use for the style loss (subset of conv layers).\n",
        "# 모든 conv layer를 활용, 특히 high 레이어가 이미지의 구조를 큰 스케일로 가장 잘 보존하고 있어 중요.\n",
        "STYLE_LAYER_NAMES = [\n",
        "    \"block1_conv1\",\n",
        "    \"block2_conv1\",\n",
        "    \"block3_conv1\",\n",
        "    \"block4_conv1\",\n",
        "    \"block5_conv1\",\n",
        "]\n",
        "\n",
        "def get_result_image_size(image_path, result_height):\n",
        "    image_width, image_height = keras.preprocessing.image.load_img(image_path).size\n",
        "    result_width = int(image_width * result_height / image_height)\n",
        "    return result_height, result_width\n",
        "\n",
        "def preprocess_image(image_path, target_height, target_width):\n",
        "    img = keras.preprocessing.image.load_img(image_path, target_size = (target_height, target_width))\n",
        "    arr = keras.preprocessing.image.img_to_array(img)\n",
        "    arr = np.expand_dims(arr, axis = 0)\n",
        "    arr = vgg19.preprocess_input(arr)\n",
        "    return tf.convert_to_tensor(arr)\n",
        "\n",
        "def get_model():\n",
        "    with tf.device('/device:GPU:0'):\n",
        "      # Build a VGG19 model loaded with pre-trained ImageNet weights\n",
        "      model = vgg19.VGG19(weights = 'imagenet', include_top = False)\n",
        "\n",
        "      # Get the symbolic outputs of each \"key\" layer\n",
        "      outputs_dict = dict([(layer.name, layer.output) for layer in model.layers])\n",
        "\n",
        "      # Set up a model that returns the activation values for every layer in VGG19 (as a dict).\n",
        "      return keras.Model(inputs = model.inputs, outputs = outputs_dict)\n",
        "\n",
        "def get_optimizer():\n",
        "    return keras.optimizers.Adam(\n",
        "        keras.optimizers.schedules.ExponentialDecay(\n",
        "            initial_learning_rate = 5.0, decay_steps = 445, decay_rate = 0.98\n",
        "        )\n",
        "    )\n",
        "\n",
        "def compute_loss(feature_extractor, combination_image, content_features, style_features):\n",
        "    combination_features = feature_extractor(combination_image)\n",
        "    loss_content = compute_content_loss(content_features, combination_features)\n",
        "    loss_style = compute_style_loss(style_features, combination_features, combination_image.shape[1] * combination_image.shape[2])\n",
        "\n",
        "    return CONTENT_WEIGHT * loss_content + STYLE_WEIGHT * loss_style\n",
        "\n",
        "# A loss function designed to maintain the 'content' of the original_image in the generated_image\n",
        "def compute_content_loss(content_features, combination_features):\n",
        "    original_image = content_features[CONTENT_LAYER_NAME]\n",
        "    generated_image = combination_features[CONTENT_LAYER_NAME]\n",
        "    #delta = tf.ones_like(generated_image)\n",
        "    '''\n",
        "    if all(tf.abs(generated_image - original_image)) < 1.0:\n",
        "      return tf.reduce_sum(tf.square(generated_image - original_image)) / 2\n",
        "    else:\n",
        "      return tf.reduce_sum((tf.abs(generated_image - original_image) - 0.5)) / 2\n",
        "    '''\n",
        "    return tf.reduce_sum(tf.square(generated_image - original_image)) / 2\n",
        "\n",
        "\n",
        "def compute_style_loss(style_features, combination_features, combination_size):\n",
        "    loss_style = 0\n",
        "\n",
        "    for layer_name in STYLE_LAYER_NAMES:\n",
        "        style_feature = style_features[layer_name][0]\n",
        "        combination_feature = combination_features[layer_name][0]\n",
        "        loss_style += style_loss(style_feature, combination_feature, combination_size) / len(STYLE_LAYER_NAMES)\n",
        "\n",
        "    return loss_style\n",
        "\n",
        "# The \"style loss\" is designed to maintain the style of the reference image in the generated image.\n",
        "# It is based on the gram matrices (which capture style) of feature maps from the style reference image and from the generated image.\n",
        "def style_loss(style_features, combination_features, combination_size):\n",
        "    S = gram_matrix(style_features)\n",
        "    C = gram_matrix(combination_features)\n",
        "    channels = style_features.shape[2]\n",
        "    #delta = tf.ones_like(C)\n",
        "    '''\n",
        "    if all(tf.abs(S - C)) < 1.0:\n",
        "      return tf.reduce_sum(tf.square(S - C)) / (4.0 * (channels ** 2) * (combination_size ** 2))\n",
        "    else:\n",
        "      return tf.reduce_sum((tf.abs(S - C) - 0.5)) / (2 * channels * combination_size)\n",
        "    '''\n",
        "    return tf.reduce_sum(tf.square(S - C)) / (4.0 * (channels ** 2) * (combination_size ** 2))\n",
        "\n",
        "def gram_matrix(x):\n",
        "   x = tf.transpose(x, (2, 0, 1))\n",
        "   features = tf.reshape(x, (tf.shape(x)[0], -1))\n",
        "   gram = tf.matmul(features, tf.transpose(features))\n",
        "   return gram\n",
        "\n",
        "def save_result(generated_image, result_height, result_width, name):\n",
        "    img = deprocess_image(generated_image, result_height, result_width)\n",
        "    keras.preprocessing.image.save_img(name, img)\n",
        "\n",
        "# Util function to convert a tensor into a valid image\n",
        "def deprocess_image(tensor, result_height, result_width):\n",
        "    tensor = tensor.numpy()\n",
        "    tensor = tensor.reshape((result_height, result_width, 3))\n",
        "\n",
        "    # Remove zero-center by mean pixel\n",
        "    tensor[:, :, 0] += 103.939\n",
        "    tensor[:, :, 1] += 116.779\n",
        "    tensor[:, :, 2] += 123.680\n",
        "\n",
        "    # 'BGR'->'RGB'\n",
        "    tensor = tensor[:, :, ::-1]\n",
        "    return np.clip(tensor, 0, 255).astype(\"uint8\")"
      ],
      "metadata": {
        "id": "IwLm3R1CgKIc"
      },
      "execution_count": null,
      "outputs": []
    },
    {
      "cell_type": "code",
      "source": [
        "if __name__ == \"__main__\":\n",
        "    # Prepare content, stlye images\n",
        "    path = os.path.abspath(os.getcwd())\n",
        "    content_image_path = keras.utils.get_file(path + '\\dataset\\HanRiver.jpeg', 'https://drive.google.com/file/d/1tzzNsk7_RDD4Jl4L3my6BA9L-48cludf/view?usp=sharing')\n",
        "    style_image_path = keras.utils.get_file(path + '\\dataset\\TwilightVenice.jpeg', 'https://drive.google.com/file/d/1ANKz0HcUtxzT2KFtGAlvZ-8IvpjW-oJB/view?usp=sharing')\n",
        "    result_height, result_width = get_result_image_size(content_image_path, RESIZE_HEIGHT)\n",
        "    print(\"result resolution: (%d, %d)\" % (result_height, result_width))\n",
        "\n",
        "    # Preprocessing\n",
        "    content_tensor = preprocess_image(content_image_path, result_height, result_width)\n",
        "    style_tensor = preprocess_image(style_image_path, result_height, result_width)\n",
        "    generated_image = tf.Variable(tf.random.uniform(style_tensor.shape, dtype=tf.dtypes.float32))\n",
        "\n",
        "    # Build model\n",
        "    model = get_model()\n",
        "    optimizer = get_optimizer()\n",
        "    print(model.summary())\n",
        "\n",
        "    content_features = model(content_tensor)\n",
        "    style_features = model(style_tensor)\n",
        "\n",
        "    # Optimize result image\n",
        "    for iter in range(NUM_ITER):\n",
        "        with tf.GradientTape() as tape:\n",
        "            loss = compute_loss(model, generated_image, content_features, style_features)\n",
        "\n",
        "        grads = tape.gradient(loss, generated_image)\n",
        "\n",
        "        print(\"iter: %4d, loss: %8.f\" % (iter, loss))\n",
        "        optimizer.apply_gradients([(grads, generated_image)])\n",
        "\n",
        "        if (iter + 1) % 100 == 0:\n",
        "            name = \"result/generated_at_iteration_%d.png\" % (iter + 1)\n",
        "            save_result(generated_image, result_height, result_width, name)\n",
        "\n",
        "    name = \"result/result_%d_%f_%f.png\" % (NUM_ITER, CONTENT_WEIGHT, STYLE_WEIGHT)\n",
        "    save_result(generated_image, result_height, result_width, name)"
      ],
      "metadata": {
        "colab": {
          "base_uri": "https://localhost:8080/",
          "height": 1000
        },
        "id": "TZn96DVPgOHH",
        "outputId": "0c63b834-2d72-4233-c569-6c56e7f90f94"
      },
      "execution_count": null,
      "outputs": [
        {
          "output_type": "stream",
          "name": "stdout",
          "text": [
            "result resolution: (1340, 1080)\n",
            "Model: \"model_3\"\n",
            "_________________________________________________________________\n",
            " Layer (type)                Output Shape              Param #   \n",
            "=================================================================\n",
            " input_4 (InputLayer)        [(None, None, None, 3)]   0         \n",
            "                                                                 \n",
            " block1_conv1 (Conv2D)       (None, None, None, 64)    1792      \n",
            "                                                                 \n",
            " block1_conv2 (Conv2D)       (None, None, None, 64)    36928     \n",
            "                                                                 \n",
            " block1_pool (MaxPooling2D)  (None, None, None, 64)    0         \n",
            "                                                                 \n",
            " block2_conv1 (Conv2D)       (None, None, None, 128)   73856     \n",
            "                                                                 \n",
            " block2_conv2 (Conv2D)       (None, None, None, 128)   147584    \n",
            "                                                                 \n",
            " block2_pool (MaxPooling2D)  (None, None, None, 128)   0         \n",
            "                                                                 \n",
            " block3_conv1 (Conv2D)       (None, None, None, 256)   295168    \n",
            "                                                                 \n",
            " block3_conv2 (Conv2D)       (None, None, None, 256)   590080    \n",
            "                                                                 \n",
            " block3_conv3 (Conv2D)       (None, None, None, 256)   590080    \n",
            "                                                                 \n",
            " block3_conv4 (Conv2D)       (None, None, None, 256)   590080    \n",
            "                                                                 \n",
            " block3_pool (MaxPooling2D)  (None, None, None, 256)   0         \n",
            "                                                                 \n",
            " block4_conv1 (Conv2D)       (None, None, None, 512)   1180160   \n",
            "                                                                 \n",
            " block4_conv2 (Conv2D)       (None, None, None, 512)   2359808   \n",
            "                                                                 \n",
            " block4_conv3 (Conv2D)       (None, None, None, 512)   2359808   \n",
            "                                                                 \n",
            " block4_conv4 (Conv2D)       (None, None, None, 512)   2359808   \n",
            "                                                                 \n",
            " block4_pool (MaxPooling2D)  (None, None, None, 512)   0         \n",
            "                                                                 \n",
            " block5_conv1 (Conv2D)       (None, None, None, 512)   2359808   \n",
            "                                                                 \n",
            " block5_conv2 (Conv2D)       (None, None, None, 512)   2359808   \n",
            "                                                                 \n",
            " block5_conv3 (Conv2D)       (None, None, None, 512)   2359808   \n",
            "                                                                 \n",
            " block5_conv4 (Conv2D)       (None, None, None, 512)   2359808   \n",
            "                                                                 \n",
            " block5_pool (MaxPooling2D)  (None, None, None, 512)   0         \n",
            "                                                                 \n",
            "=================================================================\n",
            "Total params: 20024384 (76.39 MB)\n",
            "Trainable params: 20024384 (76.39 MB)\n",
            "Non-trainable params: 0 (0.00 Byte)\n",
            "_________________________________________________________________\n",
            "None\n"
          ]
        },
        {
          "output_type": "error",
          "ename": "ResourceExhaustedError",
          "evalue": "ignored",
          "traceback": [
            "\u001b[0;31m---------------------------------------------------------------------------\u001b[0m",
            "\u001b[0;31mResourceExhaustedError\u001b[0m                    Traceback (most recent call last)",
            "\u001b[0;32m<ipython-input-13-411824ea765d>\u001b[0m in \u001b[0;36m<cell line: 1>\u001b[0;34m()\u001b[0m\n\u001b[1;32m     17\u001b[0m     \u001b[0mprint\u001b[0m\u001b[0;34m(\u001b[0m\u001b[0mmodel\u001b[0m\u001b[0;34m.\u001b[0m\u001b[0msummary\u001b[0m\u001b[0;34m(\u001b[0m\u001b[0;34m)\u001b[0m\u001b[0;34m)\u001b[0m\u001b[0;34m\u001b[0m\u001b[0;34m\u001b[0m\u001b[0m\n\u001b[1;32m     18\u001b[0m \u001b[0;34m\u001b[0m\u001b[0m\n\u001b[0;32m---> 19\u001b[0;31m     \u001b[0mcontent_features\u001b[0m \u001b[0;34m=\u001b[0m \u001b[0mmodel\u001b[0m\u001b[0;34m(\u001b[0m\u001b[0mcontent_tensor\u001b[0m\u001b[0;34m)\u001b[0m\u001b[0;34m\u001b[0m\u001b[0;34m\u001b[0m\u001b[0m\n\u001b[0m\u001b[1;32m     20\u001b[0m     \u001b[0mstyle_features\u001b[0m \u001b[0;34m=\u001b[0m \u001b[0mmodel\u001b[0m\u001b[0;34m(\u001b[0m\u001b[0mstyle_tensor\u001b[0m\u001b[0;34m)\u001b[0m\u001b[0;34m\u001b[0m\u001b[0;34m\u001b[0m\u001b[0m\n\u001b[1;32m     21\u001b[0m \u001b[0;34m\u001b[0m\u001b[0m\n",
            "\u001b[0;32m/usr/local/lib/python3.10/dist-packages/keras/src/utils/traceback_utils.py\u001b[0m in \u001b[0;36merror_handler\u001b[0;34m(*args, **kwargs)\u001b[0m\n\u001b[1;32m     68\u001b[0m             \u001b[0;31m# To get the full stack trace, call:\u001b[0m\u001b[0;34m\u001b[0m\u001b[0;34m\u001b[0m\u001b[0m\n\u001b[1;32m     69\u001b[0m             \u001b[0;31m# `tf.debugging.disable_traceback_filtering()`\u001b[0m\u001b[0;34m\u001b[0m\u001b[0;34m\u001b[0m\u001b[0m\n\u001b[0;32m---> 70\u001b[0;31m             \u001b[0;32mraise\u001b[0m \u001b[0me\u001b[0m\u001b[0;34m.\u001b[0m\u001b[0mwith_traceback\u001b[0m\u001b[0;34m(\u001b[0m\u001b[0mfiltered_tb\u001b[0m\u001b[0;34m)\u001b[0m \u001b[0;32mfrom\u001b[0m \u001b[0;32mNone\u001b[0m\u001b[0;34m\u001b[0m\u001b[0;34m\u001b[0m\u001b[0m\n\u001b[0m\u001b[1;32m     71\u001b[0m         \u001b[0;32mfinally\u001b[0m\u001b[0;34m:\u001b[0m\u001b[0;34m\u001b[0m\u001b[0;34m\u001b[0m\u001b[0m\n\u001b[1;32m     72\u001b[0m             \u001b[0;32mdel\u001b[0m \u001b[0mfiltered_tb\u001b[0m\u001b[0;34m\u001b[0m\u001b[0;34m\u001b[0m\u001b[0m\n",
            "\u001b[0;32m/usr/local/lib/python3.10/dist-packages/tensorflow/python/framework/ops.py\u001b[0m in \u001b[0;36mraise_from_not_ok_status\u001b[0;34m(e, name)\u001b[0m\n\u001b[1;32m   5886\u001b[0m \u001b[0;32mdef\u001b[0m \u001b[0mraise_from_not_ok_status\u001b[0m\u001b[0;34m(\u001b[0m\u001b[0me\u001b[0m\u001b[0;34m,\u001b[0m \u001b[0mname\u001b[0m\u001b[0;34m)\u001b[0m \u001b[0;34m->\u001b[0m \u001b[0mNoReturn\u001b[0m\u001b[0;34m:\u001b[0m\u001b[0;34m\u001b[0m\u001b[0;34m\u001b[0m\u001b[0m\n\u001b[1;32m   5887\u001b[0m   \u001b[0me\u001b[0m\u001b[0;34m.\u001b[0m\u001b[0mmessage\u001b[0m \u001b[0;34m+=\u001b[0m \u001b[0;34m(\u001b[0m\u001b[0;34m\" name: \"\u001b[0m \u001b[0;34m+\u001b[0m \u001b[0mstr\u001b[0m\u001b[0;34m(\u001b[0m\u001b[0mname\u001b[0m \u001b[0;32mif\u001b[0m \u001b[0mname\u001b[0m \u001b[0;32mis\u001b[0m \u001b[0;32mnot\u001b[0m \u001b[0;32mNone\u001b[0m \u001b[0;32melse\u001b[0m \u001b[0;34m\"\"\u001b[0m\u001b[0;34m)\u001b[0m\u001b[0;34m)\u001b[0m\u001b[0;34m\u001b[0m\u001b[0;34m\u001b[0m\u001b[0m\n\u001b[0;32m-> 5888\u001b[0;31m   \u001b[0;32mraise\u001b[0m \u001b[0mcore\u001b[0m\u001b[0;34m.\u001b[0m\u001b[0m_status_to_exception\u001b[0m\u001b[0;34m(\u001b[0m\u001b[0me\u001b[0m\u001b[0;34m)\u001b[0m \u001b[0;32mfrom\u001b[0m \u001b[0;32mNone\u001b[0m  \u001b[0;31m# pylint: disable=protected-access\u001b[0m\u001b[0;34m\u001b[0m\u001b[0;34m\u001b[0m\u001b[0m\n\u001b[0m\u001b[1;32m   5889\u001b[0m \u001b[0;34m\u001b[0m\u001b[0m\n\u001b[1;32m   5890\u001b[0m \u001b[0;34m\u001b[0m\u001b[0m\n",
            "\u001b[0;31mResourceExhaustedError\u001b[0m: Exception encountered when calling layer 'block1_conv2' (type Conv2D).\n\n{{function_node __wrapped__Conv2D_device_/job:localhost/replica:0/task:0/device:GPU:0}} OOM when allocating tensor with shape[1,64,1340,1080] and type float on /job:localhost/replica:0/task:0/device:GPU:0 by allocator GPU_0_bfc [Op:Conv2D] name: \n\nCall arguments received by layer 'block1_conv2' (type Conv2D):\n  • inputs=tf.Tensor(shape=(1, 1340, 1080, 64), dtype=float32)"
          ]
        }
      ]
    }
  ]
}